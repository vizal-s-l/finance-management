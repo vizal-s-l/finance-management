{
 "cells": [
  {
   "cell_type": "markdown",
   "id": "f7d47b85-0a8d-4ec5-98eb-223ddde06021",
   "metadata": {},
   "source": [
    "# PERSONAL FINANCE DATABASE CREATION\n",
    "####                 Using PYTHON RANDOM FUNCTION"
   ]
  },
  {
   "cell_type": "markdown",
   "id": "8554fe89-7f1e-452f-a7dd-93dadf84f750",
   "metadata": {},
   "source": [
    "IMPORT REQUIRED Libraries"
   ]
  },
  {
   "cell_type": "code",
   "execution_count": null,
   "id": "3244d341-437d-45ff-ab95-eeee92da034a",
   "metadata": {},
   "outputs": [],
   "source": [
    "import pymysql #FOR CONNECTING IT WITH MYSQLSERVER WORKBENCH\n",
    "import random  #FOR CREATING RANDOM DATABASE\n",
    "import calendar #FOR ADDING MONTHS"
   ]
  },
  {
   "cell_type": "markdown",
   "id": "59d11bfe-9875-479c-962f-ced33b6e5437",
   "metadata": {},
   "source": [
    "CONNECTION WITH MYSQL SERVER"
   ]
  },
  {
   "cell_type": "code",
   "execution_count": 4,
   "id": "7c2aba24-e910-4f83-936b-e9cc08383692",
   "metadata": {},
   "outputs": [],
   "source": [
    "db = pymysql.connect(\n",
    "    host=\"localhost\",\n",
    "    user=\"root\",\n",
    "    password=\"Abc@1234\"\n",
    ")"
   ]
  },
  {
   "cell_type": "code",
   "execution_count": 5,
   "id": "d716db79-5da1-4260-971d-fc4d6a4e2205",
   "metadata": {},
   "outputs": [],
   "source": [
    "cursor = db.cursor()"
   ]
  },
  {
   "cell_type": "markdown",
   "id": "888c7c7e-0ee8-4ba6-a4f6-f6aa9d0fed7d",
   "metadata": {},
   "source": [
    "CREATE AND SELECT THE DATABASE"
   ]
  },
  {
   "cell_type": "code",
   "execution_count": 10,
   "id": "4f632aab-399c-4d18-be7c-3487742aba48",
   "metadata": {},
   "outputs": [
    {
     "data": {
      "text/plain": [
       "0"
      ]
     },
     "execution_count": 10,
     "metadata": {},
     "output_type": "execute_result"
    }
   ],
   "source": [
    "cursor.execute(\"DROP DATABASE IF EXISTS PersonalFinance;\")"
   ]
  },
  {
   "cell_type": "code",
   "execution_count": 11,
   "id": "06f9068c-5939-460f-8d7e-a6b51c16135c",
   "metadata": {},
   "outputs": [
    {
     "data": {
      "text/plain": [
       "1"
      ]
     },
     "execution_count": 11,
     "metadata": {},
     "output_type": "execute_result"
    }
   ],
   "source": [
    "cursor.execute(\"CREATE DATABASE PersonalFinance;\")"
   ]
  },
  {
   "cell_type": "code",
   "execution_count": 12,
   "id": "f8661058-6c7b-4497-a991-34740ec98670",
   "metadata": {},
   "outputs": [
    {
     "data": {
      "text/plain": [
       "0"
      ]
     },
     "execution_count": 12,
     "metadata": {},
     "output_type": "execute_result"
    }
   ],
   "source": [
    "cursor.execute(\"USE PersonalFinance;\")"
   ]
  },
  {
   "cell_type": "markdown",
   "id": "8822f08e-332d-4490-ab92-5ec5bfb74025",
   "metadata": {},
   "source": [
    "CREATE THE TABLES"
   ]
  },
  {
   "cell_type": "code",
   "execution_count": 13,
   "id": "c9bffead-909e-490b-8598-6f0e64bdd4b0",
   "metadata": {},
   "outputs": [
    {
     "data": {
      "text/plain": [
       "0"
      ]
     },
     "execution_count": 13,
     "metadata": {},
     "output_type": "execute_result"
    }
   ],
   "source": [
    "cursor.execute(\"\"\"\n",
    "CREATE TABLE Income (\n",
    "    id INT AUTO_INCREMENT PRIMARY KEY,\n",
    "    month VARCHAR(20) NOT NULL,\n",
    "    amount DECIMAL(10, 2) NOT NULL\n",
    ");\n",
    "\"\"\")\n",
    "cursor.execute(\"\"\"\n",
    "CREATE TABLE Expenses (\n",
    "    id INT AUTO_INCREMENT PRIMARY KEY,\n",
    "    month VARCHAR(20) NOT NULL,\n",
    "    category VARCHAR(50) NOT NULL,\n",
    "    amount DECIMAL(10, 2) NOT NULL\n",
    ");\n",
    "\"\"\")\n",
    "cursor.execute(\"\"\"\n",
    "CREATE TABLE Savings (\n",
    "    id INT AUTO_INCREMENT PRIMARY KEY,\n",
    "    month VARCHAR(20) NOT NULL,\n",
    "    amount DECIMAL(10, 2) NOT NULL\n",
    ");\n",
    "\"\"\")\n",
    "cursor.execute(\"\"\"\n",
    "CREATE TABLE Categories (\n",
    "    id INT AUTO_INCREMENT PRIMARY KEY,\n",
    "    name VARCHAR(50) NOT NULL\n",
    ");\n",
    "\"\"\")"
   ]
  },
  {
   "cell_type": "markdown",
   "id": "0e0c6d07-d8bc-47bd-afd9-50b53ee5b654",
   "metadata": {},
   "source": [
    "INSERT EXPENSE CATEGORIES"
   ]
  },
  {
   "cell_type": "code",
   "execution_count": 14,
   "id": "f1ac21a5-7296-4221-b666-2122dc55b6bd",
   "metadata": {},
   "outputs": [],
   "source": [
    "categories = ['Rent', 'Groceries', 'Transportation', 'Utilities', 'Entertainment', 'Miscellaneous']\n",
    "\n",
    "for category in categories:\n",
    "    cursor.execute(f\"INSERT INTO Categories (name) VALUES ('{category}');\")"
   ]
  },
  {
   "cell_type": "markdown",
   "id": "e0bc99db-20c9-4864-a4e8-4f27d9567d55",
   "metadata": {},
   "source": [
    "RANDOMISED RANGE FOR EXPENSE CATEGORIES"
   ]
  },
  {
   "cell_type": "code",
   "execution_count": 15,
   "id": "b62557cc-8eb3-4077-9ca1-d922c00eedc1",
   "metadata": {},
   "outputs": [],
   "source": [
    "expense_ranges = {\n",
    "    'Rent': (14500, 15000),\n",
    "    'Groceries': (4000, 7000),\n",
    "    'Transportation': (3000, 5000),\n",
    "    'Utilities': (1500, 3000),\n",
    "    'Entertainment': (2000, 6000),\n",
    "    'Miscellaneous': (1000, 3000)\n",
    "}"
   ]
  },
  {
   "cell_type": "markdown",
   "id": "a20aef1b-beff-4ce8-a4d6-ba76c355b3fc",
   "metadata": {},
   "source": [
    "GENERATE RANDOM DATA FOR DATABASE"
   ]
  },
  {
   "cell_type": "code",
   "execution_count": 17,
   "id": "fe05830c-7201-464d-bdd6-b0cd4fff6993",
   "metadata": {},
   "outputs": [],
   "source": [
    "years = [2022,2023, 2024]\n",
    "income_data = []\n",
    "expenses_data = []\n",
    "savings_data = []\n",
    "\n",
    "for year in years:\n",
    "    for month in range(1, 13):\n",
    "        month_name = f\"{calendar.month_name[month]} {year}\"\n",
    "\n",
    "        # Generate random income (between 45000 and 55000)\n",
    "        income = random.uniform(45000, 55000)\n",
    "        income_data.append((month_name, round(income, 2)))\n",
    "\n",
    "        # Generate random expenses for each category\n",
    "        total_expenses = 0\n",
    "        for category in categories:\n",
    "            min_expense, max_expense = expense_ranges[category]\n",
    "            expense = random.uniform(min_expense, max_expense)\n",
    "            expenses_data.append((month_name, category, round(expense, 2)))\n",
    "            total_expenses += expense\n",
    "\n",
    "        # Calculate savings as the leftover income\n",
    "        savings = max(0, income - total_expenses)\n",
    "        savings_data.append((month_name, round(savings, 2)))\n"
   ]
  },
  {
   "cell_type": "markdown",
   "id": "3d0d85ce-0aa1-471e-82eb-b0f97984f3f1",
   "metadata": {},
   "source": [
    "INSERTING DATA INTO RESPECTIVE TABLES"
   ]
  },
  {
   "cell_type": "code",
   "execution_count": 18,
   "id": "9afdd93e-9c20-4d22-ba85-eb8fb43378a5",
   "metadata": {},
   "outputs": [
    {
     "data": {
      "text/plain": [
       "36"
      ]
     },
     "execution_count": 18,
     "metadata": {},
     "output_type": "execute_result"
    }
   ],
   "source": [
    "# Insert data into Income table\n",
    "cursor.executemany(\"INSERT INTO Income (month, amount) VALUES (%s, %s);\", income_data)\n",
    "\n",
    "# Insert data into Expenses table\n",
    "cursor.executemany(\"INSERT INTO Expenses (month, category, amount) VALUES (%s, %s, %s);\", expenses_data)\n",
    "\n",
    "# Insert data into Savings table\n",
    "cursor.executemany(\"INSERT INTO Savings (month, amount) VALUES (%s, %s);\", savings_data)"
   ]
  },
  {
   "cell_type": "markdown",
   "id": "b14856fb-53b5-42a7-a022-bbf2105b9dd0",
   "metadata": {},
   "source": [
    "COMMIT THE CHANGES"
   ]
  },
  {
   "cell_type": "code",
   "execution_count": 19,
   "id": "0f1946c5-4189-4f8f-b6c3-212c0d111f1d",
   "metadata": {},
   "outputs": [],
   "source": [
    "db.commit()"
   ]
  },
  {
   "cell_type": "markdown",
   "id": "c74282f9-b6d2-4aed-99ad-285bea2f92e4",
   "metadata": {},
   "source": [
    "CLOSE THE CONNECTION"
   ]
  },
  {
   "cell_type": "code",
   "execution_count": 20,
   "id": "3eaf2337-0495-47ae-b03b-a2171a2d6371",
   "metadata": {},
   "outputs": [],
   "source": [
    "cursor.close()\n",
    "db.close()"
   ]
  }
 ],
 "metadata": {
  "kernelspec": {
   "display_name": "Python 3 (ipykernel)",
   "language": "python",
   "name": "python3"
  },
  "language_info": {
   "codemirror_mode": {
    "name": "ipython",
    "version": 3
   },
   "file_extension": ".py",
   "mimetype": "text/x-python",
   "name": "python",
   "nbconvert_exporter": "python",
   "pygments_lexer": "ipython3",
   "version": "3.13.0"
  }
 },
 "nbformat": 4,
 "nbformat_minor": 5
}
